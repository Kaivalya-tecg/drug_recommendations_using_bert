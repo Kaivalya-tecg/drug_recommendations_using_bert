{
  "nbformat": 4,
  "nbformat_minor": 0,
  "metadata": {
    "colab": {
      "provenance": []
    },
    "kernelspec": {
      "name": "python3",
      "display_name": "Python 3"
    },
    "language_info": {
      "name": "python"
    },
    "accelerator": "GPU",
    "gpuClass": "standard"
  },
  "cells": [
    {
      "cell_type": "code",
      "execution_count": null,
      "metadata": {
        "id": "tYEOFBUCmjgl"
      },
      "outputs": [],
      "source": [
        "import pandas as pd\n",
        "import ast\n",
        "import numpy as np\n"
      ]
    },
    {
      "cell_type": "code",
      "source": [
        "All=pd.read_csv(\"/content/drive/MyDrive/Drug_recommendation_Alzimer/articles_scispacy.csv\")"
      ],
      "metadata": {
        "id": "j7QYO2_-nJuD"
      },
      "execution_count": null,
      "outputs": []
    },
    {
      "cell_type": "code",
      "source": [
        "from google.colab import drive\n",
        "drive.mount('/content/drive')"
      ],
      "metadata": {
        "colab": {
          "base_uri": "https://localhost:8080/"
        },
        "id": "HTOdQWWmFurd",
        "outputId": "44aef3e6-1db8-4678-f9ea-6567d53c9a01"
      },
      "execution_count": null,
      "outputs": [
        {
          "output_type": "stream",
          "name": "stdout",
          "text": [
            "Mounted at /content/drive\n"
          ]
        }
      ]
    },
    {
      "cell_type": "code",
      "source": [
        "All.head()"
      ],
      "metadata": {
        "colab": {
          "base_uri": "https://localhost:8080/",
          "height": 565
        },
        "id": "HTwyeDzGnQr5",
        "outputId": "bfb1885c-774f-4985-a15e-a2426d24e72e"
      },
      "execution_count": null,
      "outputs": [
        {
          "output_type": "execute_result",
          "data": {
            "text/plain": [
              "   Unnamed: 0  Unnamed: 0.1  pubmed_id  \\\n",
              "0           0             0   36375694   \n",
              "1           1             1   36375591   \n",
              "2           2             2   36374494   \n",
              "3           3             3   36374001   \n",
              "4           4             4   36373976   \n",
              "\n",
              "                                               title  \\\n",
              "0  Characterisation of C101248: A novel selective...   \n",
              "1  Risk of subsequent dementia or Alzheimer's dis...   \n",
              "2  Brain Aging Among Racially and Ethnically Dive...   \n",
              "3  Revisiting the involvement of tau in complex n...   \n",
              "4  Role of Calcium Dysregulation in Alzheimer's D...   \n",
              "\n",
              "                                            abstract  \\\n",
              "0  Neuroinflammation, specifically the NLRP3 infl...   \n",
              "1  Alzheimer's disease (AD), a common form of dem...   \n",
              "2  Neuroimaging studies have documented racial an...   \n",
              "3  Tau ablation has a protective effect in epilep...   \n",
              "4  The increasing incidence of Alzheimer's Diseas...   \n",
              "\n",
              "                                doi publication_date  \\\n",
              "0  10.1016/j.neuropharm.2022.109330       2022-11-15   \n",
              "1         10.1016/j.ajo.2022.11.005       2022-11-15   \n",
              "2      10.1001/jamaneurol.2022.3919       2022-11-15   \n",
              "3          10.1088/1741-2552/aca261       2022-11-15   \n",
              "4                10.1111/cbdd.14175       2022-11-15   \n",
              "\n",
              "                                             authors  year_published  \\\n",
              "0  [{'lastname': 'Ossola', 'firstname': 'Bernardi...            2022   \n",
              "1  [{'lastname': 'Tsai', 'firstname': 'Hou-Ren', ...            2022   \n",
              "2  [{'lastname': 'Turney', 'firstname': 'Indira C...            2022   \n",
              "3  [{'lastname': 'Bouillet', 'firstname': 'Thomas...            2022   \n",
              "4  [{'lastname': 'Joshi', 'firstname': 'Maithili'...            2022   \n",
              "\n",
              "                                      Title_abstract RCT  label  prediction  \\\n",
              "0  Characterisation of C101248: A novel selective...  no      0           0   \n",
              "1  Risk of subsequent dementia or Alzheimer's dis...  no      0           0   \n",
              "2  Brain Aging Among Racially and Ethnically Dive...  no      0           0   \n",
              "3  Revisiting the involvement of tau in complex n...  no      0           0   \n",
              "4  Role of Calcium Dysregulation in Alzheimer's D...  no      0           0   \n",
              "\n",
              "   true_label     scispacy_drugs  \\\n",
              "0           0              ['K']   \n",
              "1           0                 []   \n",
              "2           0                 []   \n",
              "3           0            ['Tau']   \n",
              "4           0  ['Calcium', 'Ca']   \n",
              "\n",
              "                                    scispacy_disease  \n",
              "0  ['Neuroinflammation', 'neurodegenerative', 'di...  \n",
              "1  ['Alzheimer', \"'s\", 'disease', 'dementia', 'ag...  \n",
              "2  ['cerebrovascular', 'disease', 'neurodegenerat...  \n",
              "3  ['epilepsy', 'Alzheimer', \"'s\", 'disease', 'ep...  \n",
              "4                     ['Alzheimer', \"'s\", 'Disease']  "
            ],
            "text/html": [
              "\n",
              "  <div id=\"df-6d09dffb-82ba-459c-86f4-73c3e92c1d54\">\n",
              "    <div class=\"colab-df-container\">\n",
              "      <div>\n",
              "<style scoped>\n",
              "    .dataframe tbody tr th:only-of-type {\n",
              "        vertical-align: middle;\n",
              "    }\n",
              "\n",
              "    .dataframe tbody tr th {\n",
              "        vertical-align: top;\n",
              "    }\n",
              "\n",
              "    .dataframe thead th {\n",
              "        text-align: right;\n",
              "    }\n",
              "</style>\n",
              "<table border=\"1\" class=\"dataframe\">\n",
              "  <thead>\n",
              "    <tr style=\"text-align: right;\">\n",
              "      <th></th>\n",
              "      <th>Unnamed: 0</th>\n",
              "      <th>Unnamed: 0.1</th>\n",
              "      <th>pubmed_id</th>\n",
              "      <th>title</th>\n",
              "      <th>abstract</th>\n",
              "      <th>doi</th>\n",
              "      <th>publication_date</th>\n",
              "      <th>authors</th>\n",
              "      <th>year_published</th>\n",
              "      <th>Title_abstract</th>\n",
              "      <th>RCT</th>\n",
              "      <th>label</th>\n",
              "      <th>prediction</th>\n",
              "      <th>true_label</th>\n",
              "      <th>scispacy_drugs</th>\n",
              "      <th>scispacy_disease</th>\n",
              "    </tr>\n",
              "  </thead>\n",
              "  <tbody>\n",
              "    <tr>\n",
              "      <th>0</th>\n",
              "      <td>0</td>\n",
              "      <td>0</td>\n",
              "      <td>36375694</td>\n",
              "      <td>Characterisation of C101248: A novel selective...</td>\n",
              "      <td>Neuroinflammation, specifically the NLRP3 infl...</td>\n",
              "      <td>10.1016/j.neuropharm.2022.109330</td>\n",
              "      <td>2022-11-15</td>\n",
              "      <td>[{'lastname': 'Ossola', 'firstname': 'Bernardi...</td>\n",
              "      <td>2022</td>\n",
              "      <td>Characterisation of C101248: A novel selective...</td>\n",
              "      <td>no</td>\n",
              "      <td>0</td>\n",
              "      <td>0</td>\n",
              "      <td>0</td>\n",
              "      <td>['K']</td>\n",
              "      <td>['Neuroinflammation', 'neurodegenerative', 'di...</td>\n",
              "    </tr>\n",
              "    <tr>\n",
              "      <th>1</th>\n",
              "      <td>1</td>\n",
              "      <td>1</td>\n",
              "      <td>36375591</td>\n",
              "      <td>Risk of subsequent dementia or Alzheimer's dis...</td>\n",
              "      <td>Alzheimer's disease (AD), a common form of dem...</td>\n",
              "      <td>10.1016/j.ajo.2022.11.005</td>\n",
              "      <td>2022-11-15</td>\n",
              "      <td>[{'lastname': 'Tsai', 'firstname': 'Hou-Ren', ...</td>\n",
              "      <td>2022</td>\n",
              "      <td>Risk of subsequent dementia or Alzheimer's dis...</td>\n",
              "      <td>no</td>\n",
              "      <td>0</td>\n",
              "      <td>0</td>\n",
              "      <td>0</td>\n",
              "      <td>[]</td>\n",
              "      <td>['Alzheimer', \"'s\", 'disease', 'dementia', 'ag...</td>\n",
              "    </tr>\n",
              "    <tr>\n",
              "      <th>2</th>\n",
              "      <td>2</td>\n",
              "      <td>2</td>\n",
              "      <td>36374494</td>\n",
              "      <td>Brain Aging Among Racially and Ethnically Dive...</td>\n",
              "      <td>Neuroimaging studies have documented racial an...</td>\n",
              "      <td>10.1001/jamaneurol.2022.3919</td>\n",
              "      <td>2022-11-15</td>\n",
              "      <td>[{'lastname': 'Turney', 'firstname': 'Indira C...</td>\n",
              "      <td>2022</td>\n",
              "      <td>Brain Aging Among Racially and Ethnically Dive...</td>\n",
              "      <td>no</td>\n",
              "      <td>0</td>\n",
              "      <td>0</td>\n",
              "      <td>0</td>\n",
              "      <td>[]</td>\n",
              "      <td>['cerebrovascular', 'disease', 'neurodegenerat...</td>\n",
              "    </tr>\n",
              "    <tr>\n",
              "      <th>3</th>\n",
              "      <td>3</td>\n",
              "      <td>3</td>\n",
              "      <td>36374001</td>\n",
              "      <td>Revisiting the involvement of tau in complex n...</td>\n",
              "      <td>Tau ablation has a protective effect in epilep...</td>\n",
              "      <td>10.1088/1741-2552/aca261</td>\n",
              "      <td>2022-11-15</td>\n",
              "      <td>[{'lastname': 'Bouillet', 'firstname': 'Thomas...</td>\n",
              "      <td>2022</td>\n",
              "      <td>Revisiting the involvement of tau in complex n...</td>\n",
              "      <td>no</td>\n",
              "      <td>0</td>\n",
              "      <td>0</td>\n",
              "      <td>0</td>\n",
              "      <td>['Tau']</td>\n",
              "      <td>['epilepsy', 'Alzheimer', \"'s\", 'disease', 'ep...</td>\n",
              "    </tr>\n",
              "    <tr>\n",
              "      <th>4</th>\n",
              "      <td>4</td>\n",
              "      <td>4</td>\n",
              "      <td>36373976</td>\n",
              "      <td>Role of Calcium Dysregulation in Alzheimer's D...</td>\n",
              "      <td>The increasing incidence of Alzheimer's Diseas...</td>\n",
              "      <td>10.1111/cbdd.14175</td>\n",
              "      <td>2022-11-15</td>\n",
              "      <td>[{'lastname': 'Joshi', 'firstname': 'Maithili'...</td>\n",
              "      <td>2022</td>\n",
              "      <td>Role of Calcium Dysregulation in Alzheimer's D...</td>\n",
              "      <td>no</td>\n",
              "      <td>0</td>\n",
              "      <td>0</td>\n",
              "      <td>0</td>\n",
              "      <td>['Calcium', 'Ca']</td>\n",
              "      <td>['Alzheimer', \"'s\", 'Disease']</td>\n",
              "    </tr>\n",
              "  </tbody>\n",
              "</table>\n",
              "</div>\n",
              "      <button class=\"colab-df-convert\" onclick=\"convertToInteractive('df-6d09dffb-82ba-459c-86f4-73c3e92c1d54')\"\n",
              "              title=\"Convert this dataframe to an interactive table.\"\n",
              "              style=\"display:none;\">\n",
              "        \n",
              "  <svg xmlns=\"http://www.w3.org/2000/svg\" height=\"24px\"viewBox=\"0 0 24 24\"\n",
              "       width=\"24px\">\n",
              "    <path d=\"M0 0h24v24H0V0z\" fill=\"none\"/>\n",
              "    <path d=\"M18.56 5.44l.94 2.06.94-2.06 2.06-.94-2.06-.94-.94-2.06-.94 2.06-2.06.94zm-11 1L8.5 8.5l.94-2.06 2.06-.94-2.06-.94L8.5 2.5l-.94 2.06-2.06.94zm10 10l.94 2.06.94-2.06 2.06-.94-2.06-.94-.94-2.06-.94 2.06-2.06.94z\"/><path d=\"M17.41 7.96l-1.37-1.37c-.4-.4-.92-.59-1.43-.59-.52 0-1.04.2-1.43.59L10.3 9.45l-7.72 7.72c-.78.78-.78 2.05 0 2.83L4 21.41c.39.39.9.59 1.41.59.51 0 1.02-.2 1.41-.59l7.78-7.78 2.81-2.81c.8-.78.8-2.07 0-2.86zM5.41 20L4 18.59l7.72-7.72 1.47 1.35L5.41 20z\"/>\n",
              "  </svg>\n",
              "      </button>\n",
              "      \n",
              "  <style>\n",
              "    .colab-df-container {\n",
              "      display:flex;\n",
              "      flex-wrap:wrap;\n",
              "      gap: 12px;\n",
              "    }\n",
              "\n",
              "    .colab-df-convert {\n",
              "      background-color: #E8F0FE;\n",
              "      border: none;\n",
              "      border-radius: 50%;\n",
              "      cursor: pointer;\n",
              "      display: none;\n",
              "      fill: #1967D2;\n",
              "      height: 32px;\n",
              "      padding: 0 0 0 0;\n",
              "      width: 32px;\n",
              "    }\n",
              "\n",
              "    .colab-df-convert:hover {\n",
              "      background-color: #E2EBFA;\n",
              "      box-shadow: 0px 1px 2px rgba(60, 64, 67, 0.3), 0px 1px 3px 1px rgba(60, 64, 67, 0.15);\n",
              "      fill: #174EA6;\n",
              "    }\n",
              "\n",
              "    [theme=dark] .colab-df-convert {\n",
              "      background-color: #3B4455;\n",
              "      fill: #D2E3FC;\n",
              "    }\n",
              "\n",
              "    [theme=dark] .colab-df-convert:hover {\n",
              "      background-color: #434B5C;\n",
              "      box-shadow: 0px 1px 3px 1px rgba(0, 0, 0, 0.15);\n",
              "      filter: drop-shadow(0px 1px 2px rgba(0, 0, 0, 0.3));\n",
              "      fill: #FFFFFF;\n",
              "    }\n",
              "  </style>\n",
              "\n",
              "      <script>\n",
              "        const buttonEl =\n",
              "          document.querySelector('#df-6d09dffb-82ba-459c-86f4-73c3e92c1d54 button.colab-df-convert');\n",
              "        buttonEl.style.display =\n",
              "          google.colab.kernel.accessAllowed ? 'block' : 'none';\n",
              "\n",
              "        async function convertToInteractive(key) {\n",
              "          const element = document.querySelector('#df-6d09dffb-82ba-459c-86f4-73c3e92c1d54');\n",
              "          const dataTable =\n",
              "            await google.colab.kernel.invokeFunction('convertToInteractive',\n",
              "                                                     [key], {});\n",
              "          if (!dataTable) return;\n",
              "\n",
              "          const docLinkHtml = 'Like what you see? Visit the ' +\n",
              "            '<a target=\"_blank\" href=https://colab.research.google.com/notebooks/data_table.ipynb>data table notebook</a>'\n",
              "            + ' to learn more about interactive tables.';\n",
              "          element.innerHTML = '';\n",
              "          dataTable['output_type'] = 'display_data';\n",
              "          await google.colab.output.renderOutput(dataTable, element);\n",
              "          const docLink = document.createElement('div');\n",
              "          docLink.innerHTML = docLinkHtml;\n",
              "          element.appendChild(docLink);\n",
              "        }\n",
              "      </script>\n",
              "    </div>\n",
              "  </div>\n",
              "  "
            ]
          },
          "metadata": {},
          "execution_count": 6
        }
      ]
    },
    {
      "cell_type": "code",
      "source": [
        "All.shape"
      ],
      "metadata": {
        "colab": {
          "base_uri": "https://localhost:8080/"
        },
        "id": "zjH1cEXnqDzP",
        "outputId": "6d5fc718-5c3c-4f7c-f94a-1660b6baeec4"
      },
      "execution_count": null,
      "outputs": [
        {
          "output_type": "execute_result",
          "data": {
            "text/plain": [
              "(17611, 16)"
            ]
          },
          "metadata": {},
          "execution_count": 7
        }
      ]
    },
    {
      "cell_type": "code",
      "source": [
        "All['primary_drug']=None\n",
        "All['primary_disease']=None\n",
        "All = All[All['scispacy_drugs'] != '[]']\n",
        "All = All[All['scispacy_disease'] != '[]']\n",
        "All.reset_index(inplace = True,drop=True)\n",
        "All.shape"
      ],
      "metadata": {
        "colab": {
          "base_uri": "https://localhost:8080/"
        },
        "id": "dYyAZi94olTO",
        "outputId": "0a32c0d7-2b87-4271-cd41-1c73063a41dd"
      },
      "execution_count": null,
      "outputs": [
        {
          "output_type": "execute_result",
          "data": {
            "text/plain": [
              "(11509, 18)"
            ]
          },
          "metadata": {},
          "execution_count": 8
        }
      ]
    },
    {
      "cell_type": "code",
      "source": [
        "for index, row in All.iterrows():\n",
        "    row[\"scispacy_drugs\"] = ast.literal_eval(row[\"scispacy_drugs\"])\n",
        "    pd = max(set(row[\"scispacy_drugs\"]), key = row[\"scispacy_drugs\"].count)\n",
        "    All['primary_drug'].iloc[index]=pd\n",
        "    row[\"scispacy_disease\"] = ast.literal_eval(row[\"scispacy_disease\"])\n",
        "    primary_dis = max(set(row[\"scispacy_disease\"]), key = row[\"scispacy_disease\"].count)\n",
        "    All['primary_disease'].iloc[index]=primary_dis"
      ],
      "metadata": {
        "colab": {
          "base_uri": "https://localhost:8080/"
        },
        "id": "TSYmsSKjn4H1",
        "outputId": "d6388ac0-84ab-43d5-b0a5-79973871b51a"
      },
      "execution_count": null,
      "outputs": [
        {
          "output_type": "stream",
          "name": "stderr",
          "text": [
            "/usr/local/lib/python3.7/dist-packages/pandas/core/indexing.py:1732: SettingWithCopyWarning: \n",
            "A value is trying to be set on a copy of a slice from a DataFrame\n",
            "\n",
            "See the caveats in the documentation: https://pandas.pydata.org/pandas-docs/stable/user_guide/indexing.html#returning-a-view-versus-a-copy\n",
            "  self._setitem_single_block(indexer, value, name)\n"
          ]
        }
      ]
    },
    {
      "cell_type": "code",
      "source": [
        "All.head()"
      ],
      "metadata": {
        "colab": {
          "base_uri": "https://localhost:8080/",
          "height": 548
        },
        "id": "hfEiszP8qlq8",
        "outputId": "ef5dbf97-a1f4-4309-8161-cee444070674"
      },
      "execution_count": null,
      "outputs": [
        {
          "output_type": "execute_result",
          "data": {
            "text/plain": [
              "   Unnamed: 0  Unnamed: 0.1  pubmed_id  \\\n",
              "0           0             0   36375694   \n",
              "1           3             3   36374001   \n",
              "2           4             4   36373976   \n",
              "3           5             5   36373666   \n",
              "4           6             6   36373344   \n",
              "\n",
              "                                               title  \\\n",
              "0  Characterisation of C101248: A novel selective...   \n",
              "1  Revisiting the involvement of tau in complex n...   \n",
              "2  Role of Calcium Dysregulation in Alzheimer's D...   \n",
              "3  Shapeshifting tau: from intrinsically disorder...   \n",
              "4  A public resource of baseline data from the Al...   \n",
              "\n",
              "                                            abstract  \\\n",
              "0  Neuroinflammation, specifically the NLRP3 infl...   \n",
              "1  Tau ablation has a protective effect in epilep...   \n",
              "2  The increasing incidence of Alzheimer's Diseas...   \n",
              "3  Tau is an intrinsically disordered protein tha...   \n",
              "4  The Alzheimer's Prevention Initiative Autosoma...   \n",
              "\n",
              "                                doi publication_date  \\\n",
              "0  10.1016/j.neuropharm.2022.109330       2022-11-15   \n",
              "1          10.1088/1741-2552/aca261       2022-11-15   \n",
              "2                10.1111/cbdd.14175       2022-11-15   \n",
              "3               10.1042/EBC20220150       2022-11-15   \n",
              "4                 10.1002/alz.12843       2022-11-15   \n",
              "\n",
              "                                             authors  year_published  \\\n",
              "0  [{'lastname': 'Ossola', 'firstname': 'Bernardi...            2022   \n",
              "1  [{'lastname': 'Bouillet', 'firstname': 'Thomas...            2022   \n",
              "2  [{'lastname': 'Joshi', 'firstname': 'Maithili'...            2022   \n",
              "3  [{'lastname': 'Mengham', 'firstname': 'Kurtis'...            2022   \n",
              "4  [{'lastname': 'Reiman', 'firstname': 'Eric M',...            2022   \n",
              "\n",
              "                                      Title_abstract  RCT  label  prediction  \\\n",
              "0  Characterisation of C101248: A novel selective...   no      0           0   \n",
              "1  Revisiting the involvement of tau in complex n...   no      0           0   \n",
              "2  Role of Calcium Dysregulation in Alzheimer's D...   no      0           0   \n",
              "3  Shapeshifting tau: from intrinsically disorder...   no      0           0   \n",
              "4  A public resource of baseline data from the Al...  yes      1           1   \n",
              "\n",
              "   true_label                                     scispacy_drugs  \\\n",
              "0           0                                              ['K']   \n",
              "1           0                                            ['Tau']   \n",
              "2           0                                  ['Calcium', 'Ca']   \n",
              "3           0         ['Tau', 'tubulin', 'Tau', 'liquid-liquid']   \n",
              "4           1  ['amyloid', 'beta', '(', 'Aβ', ')', 'presenili...   \n",
              "\n",
              "                                    scispacy_disease primary_drug  \\\n",
              "0  ['Neuroinflammation', 'neurodegenerative', 'di...            K   \n",
              "1  ['epilepsy', 'Alzheimer', \"'s\", 'disease', 'ep...          Tau   \n",
              "2                     ['Alzheimer', \"'s\", 'Disease']           Ca   \n",
              "3  ['Alzheimer', \"'s\", 'disease', 'tauopathies', ...          Tau   \n",
              "4  ['Alzheimer', \"'s\", 'Prevention', 'Autosomal-D...            )   \n",
              "\n",
              "     primary_disease  \n",
              "0  Neuroinflammation  \n",
              "1           epilepsy  \n",
              "2                 's  \n",
              "3            disease  \n",
              "4          Alzheimer  "
            ],
            "text/html": [
              "\n",
              "  <div id=\"df-ae9fe01b-be66-4790-a180-7577756ac18a\">\n",
              "    <div class=\"colab-df-container\">\n",
              "      <div>\n",
              "<style scoped>\n",
              "    .dataframe tbody tr th:only-of-type {\n",
              "        vertical-align: middle;\n",
              "    }\n",
              "\n",
              "    .dataframe tbody tr th {\n",
              "        vertical-align: top;\n",
              "    }\n",
              "\n",
              "    .dataframe thead th {\n",
              "        text-align: right;\n",
              "    }\n",
              "</style>\n",
              "<table border=\"1\" class=\"dataframe\">\n",
              "  <thead>\n",
              "    <tr style=\"text-align: right;\">\n",
              "      <th></th>\n",
              "      <th>Unnamed: 0</th>\n",
              "      <th>Unnamed: 0.1</th>\n",
              "      <th>pubmed_id</th>\n",
              "      <th>title</th>\n",
              "      <th>abstract</th>\n",
              "      <th>doi</th>\n",
              "      <th>publication_date</th>\n",
              "      <th>authors</th>\n",
              "      <th>year_published</th>\n",
              "      <th>Title_abstract</th>\n",
              "      <th>RCT</th>\n",
              "      <th>label</th>\n",
              "      <th>prediction</th>\n",
              "      <th>true_label</th>\n",
              "      <th>scispacy_drugs</th>\n",
              "      <th>scispacy_disease</th>\n",
              "      <th>primary_drug</th>\n",
              "      <th>primary_disease</th>\n",
              "    </tr>\n",
              "  </thead>\n",
              "  <tbody>\n",
              "    <tr>\n",
              "      <th>0</th>\n",
              "      <td>0</td>\n",
              "      <td>0</td>\n",
              "      <td>36375694</td>\n",
              "      <td>Characterisation of C101248: A novel selective...</td>\n",
              "      <td>Neuroinflammation, specifically the NLRP3 infl...</td>\n",
              "      <td>10.1016/j.neuropharm.2022.109330</td>\n",
              "      <td>2022-11-15</td>\n",
              "      <td>[{'lastname': 'Ossola', 'firstname': 'Bernardi...</td>\n",
              "      <td>2022</td>\n",
              "      <td>Characterisation of C101248: A novel selective...</td>\n",
              "      <td>no</td>\n",
              "      <td>0</td>\n",
              "      <td>0</td>\n",
              "      <td>0</td>\n",
              "      <td>['K']</td>\n",
              "      <td>['Neuroinflammation', 'neurodegenerative', 'di...</td>\n",
              "      <td>K</td>\n",
              "      <td>Neuroinflammation</td>\n",
              "    </tr>\n",
              "    <tr>\n",
              "      <th>1</th>\n",
              "      <td>3</td>\n",
              "      <td>3</td>\n",
              "      <td>36374001</td>\n",
              "      <td>Revisiting the involvement of tau in complex n...</td>\n",
              "      <td>Tau ablation has a protective effect in epilep...</td>\n",
              "      <td>10.1088/1741-2552/aca261</td>\n",
              "      <td>2022-11-15</td>\n",
              "      <td>[{'lastname': 'Bouillet', 'firstname': 'Thomas...</td>\n",
              "      <td>2022</td>\n",
              "      <td>Revisiting the involvement of tau in complex n...</td>\n",
              "      <td>no</td>\n",
              "      <td>0</td>\n",
              "      <td>0</td>\n",
              "      <td>0</td>\n",
              "      <td>['Tau']</td>\n",
              "      <td>['epilepsy', 'Alzheimer', \"'s\", 'disease', 'ep...</td>\n",
              "      <td>Tau</td>\n",
              "      <td>epilepsy</td>\n",
              "    </tr>\n",
              "    <tr>\n",
              "      <th>2</th>\n",
              "      <td>4</td>\n",
              "      <td>4</td>\n",
              "      <td>36373976</td>\n",
              "      <td>Role of Calcium Dysregulation in Alzheimer's D...</td>\n",
              "      <td>The increasing incidence of Alzheimer's Diseas...</td>\n",
              "      <td>10.1111/cbdd.14175</td>\n",
              "      <td>2022-11-15</td>\n",
              "      <td>[{'lastname': 'Joshi', 'firstname': 'Maithili'...</td>\n",
              "      <td>2022</td>\n",
              "      <td>Role of Calcium Dysregulation in Alzheimer's D...</td>\n",
              "      <td>no</td>\n",
              "      <td>0</td>\n",
              "      <td>0</td>\n",
              "      <td>0</td>\n",
              "      <td>['Calcium', 'Ca']</td>\n",
              "      <td>['Alzheimer', \"'s\", 'Disease']</td>\n",
              "      <td>Ca</td>\n",
              "      <td>'s</td>\n",
              "    </tr>\n",
              "    <tr>\n",
              "      <th>3</th>\n",
              "      <td>5</td>\n",
              "      <td>5</td>\n",
              "      <td>36373666</td>\n",
              "      <td>Shapeshifting tau: from intrinsically disorder...</td>\n",
              "      <td>Tau is an intrinsically disordered protein tha...</td>\n",
              "      <td>10.1042/EBC20220150</td>\n",
              "      <td>2022-11-15</td>\n",
              "      <td>[{'lastname': 'Mengham', 'firstname': 'Kurtis'...</td>\n",
              "      <td>2022</td>\n",
              "      <td>Shapeshifting tau: from intrinsically disorder...</td>\n",
              "      <td>no</td>\n",
              "      <td>0</td>\n",
              "      <td>0</td>\n",
              "      <td>0</td>\n",
              "      <td>['Tau', 'tubulin', 'Tau', 'liquid-liquid']</td>\n",
              "      <td>['Alzheimer', \"'s\", 'disease', 'tauopathies', ...</td>\n",
              "      <td>Tau</td>\n",
              "      <td>disease</td>\n",
              "    </tr>\n",
              "    <tr>\n",
              "      <th>4</th>\n",
              "      <td>6</td>\n",
              "      <td>6</td>\n",
              "      <td>36373344</td>\n",
              "      <td>A public resource of baseline data from the Al...</td>\n",
              "      <td>The Alzheimer's Prevention Initiative Autosoma...</td>\n",
              "      <td>10.1002/alz.12843</td>\n",
              "      <td>2022-11-15</td>\n",
              "      <td>[{'lastname': 'Reiman', 'firstname': 'Eric M',...</td>\n",
              "      <td>2022</td>\n",
              "      <td>A public resource of baseline data from the Al...</td>\n",
              "      <td>yes</td>\n",
              "      <td>1</td>\n",
              "      <td>1</td>\n",
              "      <td>1</td>\n",
              "      <td>['amyloid', 'beta', '(', 'Aβ', ')', 'presenili...</td>\n",
              "      <td>['Alzheimer', \"'s\", 'Prevention', 'Autosomal-D...</td>\n",
              "      <td>)</td>\n",
              "      <td>Alzheimer</td>\n",
              "    </tr>\n",
              "  </tbody>\n",
              "</table>\n",
              "</div>\n",
              "      <button class=\"colab-df-convert\" onclick=\"convertToInteractive('df-ae9fe01b-be66-4790-a180-7577756ac18a')\"\n",
              "              title=\"Convert this dataframe to an interactive table.\"\n",
              "              style=\"display:none;\">\n",
              "        \n",
              "  <svg xmlns=\"http://www.w3.org/2000/svg\" height=\"24px\"viewBox=\"0 0 24 24\"\n",
              "       width=\"24px\">\n",
              "    <path d=\"M0 0h24v24H0V0z\" fill=\"none\"/>\n",
              "    <path d=\"M18.56 5.44l.94 2.06.94-2.06 2.06-.94-2.06-.94-.94-2.06-.94 2.06-2.06.94zm-11 1L8.5 8.5l.94-2.06 2.06-.94-2.06-.94L8.5 2.5l-.94 2.06-2.06.94zm10 10l.94 2.06.94-2.06 2.06-.94-2.06-.94-.94-2.06-.94 2.06-2.06.94z\"/><path d=\"M17.41 7.96l-1.37-1.37c-.4-.4-.92-.59-1.43-.59-.52 0-1.04.2-1.43.59L10.3 9.45l-7.72 7.72c-.78.78-.78 2.05 0 2.83L4 21.41c.39.39.9.59 1.41.59.51 0 1.02-.2 1.41-.59l7.78-7.78 2.81-2.81c.8-.78.8-2.07 0-2.86zM5.41 20L4 18.59l7.72-7.72 1.47 1.35L5.41 20z\"/>\n",
              "  </svg>\n",
              "      </button>\n",
              "      \n",
              "  <style>\n",
              "    .colab-df-container {\n",
              "      display:flex;\n",
              "      flex-wrap:wrap;\n",
              "      gap: 12px;\n",
              "    }\n",
              "\n",
              "    .colab-df-convert {\n",
              "      background-color: #E8F0FE;\n",
              "      border: none;\n",
              "      border-radius: 50%;\n",
              "      cursor: pointer;\n",
              "      display: none;\n",
              "      fill: #1967D2;\n",
              "      height: 32px;\n",
              "      padding: 0 0 0 0;\n",
              "      width: 32px;\n",
              "    }\n",
              "\n",
              "    .colab-df-convert:hover {\n",
              "      background-color: #E2EBFA;\n",
              "      box-shadow: 0px 1px 2px rgba(60, 64, 67, 0.3), 0px 1px 3px 1px rgba(60, 64, 67, 0.15);\n",
              "      fill: #174EA6;\n",
              "    }\n",
              "\n",
              "    [theme=dark] .colab-df-convert {\n",
              "      background-color: #3B4455;\n",
              "      fill: #D2E3FC;\n",
              "    }\n",
              "\n",
              "    [theme=dark] .colab-df-convert:hover {\n",
              "      background-color: #434B5C;\n",
              "      box-shadow: 0px 1px 3px 1px rgba(0, 0, 0, 0.15);\n",
              "      filter: drop-shadow(0px 1px 2px rgba(0, 0, 0, 0.3));\n",
              "      fill: #FFFFFF;\n",
              "    }\n",
              "  </style>\n",
              "\n",
              "      <script>\n",
              "        const buttonEl =\n",
              "          document.querySelector('#df-ae9fe01b-be66-4790-a180-7577756ac18a button.colab-df-convert');\n",
              "        buttonEl.style.display =\n",
              "          google.colab.kernel.accessAllowed ? 'block' : 'none';\n",
              "\n",
              "        async function convertToInteractive(key) {\n",
              "          const element = document.querySelector('#df-ae9fe01b-be66-4790-a180-7577756ac18a');\n",
              "          const dataTable =\n",
              "            await google.colab.kernel.invokeFunction('convertToInteractive',\n",
              "                                                     [key], {});\n",
              "          if (!dataTable) return;\n",
              "\n",
              "          const docLinkHtml = 'Like what you see? Visit the ' +\n",
              "            '<a target=\"_blank\" href=https://colab.research.google.com/notebooks/data_table.ipynb>data table notebook</a>'\n",
              "            + ' to learn more about interactive tables.';\n",
              "          element.innerHTML = '';\n",
              "          dataTable['output_type'] = 'display_data';\n",
              "          await google.colab.output.renderOutput(dataTable, element);\n",
              "          const docLink = document.createElement('div');\n",
              "          docLink.innerHTML = docLinkHtml;\n",
              "          element.appendChild(docLink);\n",
              "        }\n",
              "      </script>\n",
              "    </div>\n",
              "  </div>\n",
              "  "
            ]
          },
          "metadata": {},
          "execution_count": 10
        }
      ]
    },
    {
      "cell_type": "code",
      "source": [
        "All['primary_drug'].value_counts()"
      ],
      "metadata": {
        "colab": {
          "base_uri": "https://localhost:8080/"
        },
        "id": "ejtBsIeoyy8B",
        "outputId": "0f79bca6-8971-4927-8c71-ed043f03ec91"
      },
      "execution_count": null,
      "outputs": [
        {
          "output_type": "execute_result",
          "data": {
            "text/plain": [
              "Aβ           315\n",
              "Tau          301\n",
              "amyloid      264\n",
              "(            214\n",
              "±            213\n",
              "            ... \n",
              "Aqueously      1\n",
              "TAN            1\n",
              "FAIM-L         1\n",
              "ADASJcog       1\n",
              "proBDNF        1\n",
              "Name: primary_drug, Length: 4422, dtype: int64"
            ]
          },
          "metadata": {},
          "execution_count": 11
        }
      ]
    },
    {
      "cell_type": "code",
      "source": [
        "All['primary_disease'].value_counts()"
      ],
      "metadata": {
        "colab": {
          "base_uri": "https://localhost:8080/"
        },
        "id": "fK4lTWamz7AS",
        "outputId": "65fa262f-e299-4163-abe7-9ebfa4e23bac"
      },
      "execution_count": null,
      "outputs": [
        {
          "output_type": "execute_result",
          "data": {
            "text/plain": [
              "disease       2894\n",
              "dementia       882\n",
              "AD             690\n",
              "Alzheimer      441\n",
              "MCI            398\n",
              "              ... \n",
              "cleft            1\n",
              "metal            1\n",
              "cognition        1\n",
              "psychotic        1\n",
              "spike-wave       1\n",
              "Name: primary_disease, Length: 1035, dtype: int64"
            ]
          },
          "metadata": {},
          "execution_count": 12
        }
      ]
    },
    {
      "cell_type": "markdown",
      "source": [
        "## Primary disease may not be of much use as the count of keywords like disease, low, protien has max count hence articles unrelated to alzheimer's cannot be determined by count"
      ],
      "metadata": {
        "id": "Dt24xye40Fqj"
      }
    },
    {
      "cell_type": "code",
      "source": [
        "Alzheimer_search=[\"Alzheimer\",\"AD\",\"Alzheimer dementia\",\"Alzheimer dementia(AD)\",\"Alzheimer sclerosis\",\"Alzheimer syndrome\",\"Alzheimer's disease\",\"Alzheimer-type dementia (ATD)\",\"DAT\",\"Familial Alzheimer disease\",\"FAD\",\"Presenile and senile dementia\", \"Primary senile degenerative dementia\" ,\"SDAT\"]\n",
        "Alzheimer_search=list(map(str.lower,Alzheimer_search))\n"
      ],
      "metadata": {
        "id": "TqhbpYft1kiw"
      },
      "execution_count": null,
      "outputs": []
    },
    {
      "cell_type": "code",
      "source": [
        "# Checking if alzheimer's disease is recognized by scipacy\n",
        "All['Alzheimer_found']=False\n",
        "for index, row in All.iterrows():\n",
        "    row[\"scispacy_disease\"] = ast.literal_eval(row[\"scispacy_disease\"])\n",
        "    row[\"scispacy_disease\"]=list(map(str.lower,row[\"scispacy_disease\"]))\n",
        "    All['Alzheimer_found'].iloc[index]=any(item in Alzheimer_search for item in row[\"scispacy_disease\"])"
      ],
      "metadata": {
        "colab": {
          "base_uri": "https://localhost:8080/"
        },
        "id": "NclmWefLyKLK",
        "outputId": "eb62ec61-7259-4f07-b642-92e282162c80"
      },
      "execution_count": null,
      "outputs": [
        {
          "output_type": "stream",
          "name": "stderr",
          "text": [
            "/usr/local/lib/python3.7/dist-packages/pandas/core/indexing.py:1732: SettingWithCopyWarning: \n",
            "A value is trying to be set on a copy of a slice from a DataFrame\n",
            "\n",
            "See the caveats in the documentation: https://pandas.pydata.org/pandas-docs/stable/user_guide/indexing.html#returning-a-view-versus-a-copy\n",
            "  self._setitem_single_block(indexer, value, name)\n"
          ]
        }
      ]
    },
    {
      "cell_type": "code",
      "source": [
        "All['Alzheimer_found'].value_counts()"
      ],
      "metadata": {
        "colab": {
          "base_uri": "https://localhost:8080/"
        },
        "id": "RsFuGp433kor",
        "outputId": "3aaf3ef4-cbb4-43ad-e4e4-456d88b169ae"
      },
      "execution_count": null,
      "outputs": [
        {
          "output_type": "execute_result",
          "data": {
            "text/plain": [
              "True     10409\n",
              "False     1100\n",
              "Name: Alzheimer_found, dtype: int64"
            ]
          },
          "metadata": {},
          "execution_count": 15
        }
      ]
    },
    {
      "cell_type": "code",
      "source": [
        "All.to_excel(\"/content/drive/MyDrive/Drug_recommendation_Alzimer/primary_drug_disease.xlsx\")"
      ],
      "metadata": {
        "id": "c8be6YiA5wxK"
      },
      "execution_count": null,
      "outputs": []
    },
    {
      "cell_type": "markdown",
      "source": [
        "#Checking for "
      ],
      "metadata": {
        "id": "_sQIUusR40Ib"
      }
    },
    {
      "cell_type": "code",
      "source": [
        "import pandas as pd"
      ],
      "metadata": {
        "id": "Vh_8q9BtA1vm"
      },
      "execution_count": null,
      "outputs": []
    },
    {
      "cell_type": "code",
      "source": [
        "All=pd.read_excel(\"/content/drive/MyDrive/Drug_recommendation_Alzimer/primary_drug_disease_treatment.xlsx\")"
      ],
      "metadata": {
        "id": "qoTZkf2MAmPt"
      },
      "execution_count": null,
      "outputs": []
    },
    {
      "cell_type": "code",
      "source": [
        "\n",
        "from sklearn.model_selection import train_test_split\n",
        "from keras.models import Sequential\n",
        "from keras.preprocessing.text import Tokenizer\n",
        "from tensorflow.keras.preprocessing.sequence import pad_sequences\n",
        "from keras.layers import Embedding,Dense,LSTM,Dropout,Flatten,BatchNormalization,Conv1D,GlobalMaxPooling1D,MaxPooling1D\n",
        "from keras.optimizers import  SGD\n",
        "import matplotlib.pyplot as plt\n",
        "from keras.regularizers import l2\n",
        "from keras.optimizers import Adam\n",
        "from keras import regularizers\n",
        "from keras.callbacks import EarlyStopping\n",
        "from sklearn.preprocessing import OneHotEncoder\n",
        "from keras.preprocessing import sequence\n",
        "from keras.utils.np_utils import to_categorical\n",
        "from keras import regularizers\n",
        "import pandas as pd\n",
        "import string\n",
        "import numpy as np\n",
        "import matplotlib.pyplot as plt\n",
        "\n",
        "import os"
      ],
      "metadata": {
        "id": "usiZqKL3Jz83"
      },
      "execution_count": null,
      "outputs": []
    },
    {
      "cell_type": "code",
      "source": [
        "All['Treatment'].value_counts()"
      ],
      "metadata": {
        "colab": {
          "base_uri": "https://localhost:8080/"
        },
        "id": "7gUEv6MCBnZh",
        "outputId": "f67b6b9b-7330-46f7-c211-d39086eaa5f3"
      },
      "execution_count": null,
      "outputs": [
        {
          "output_type": "execute_result",
          "data": {
            "text/plain": [
              "no     1104\n",
              "yes     249\n",
              "Name: Treatment, dtype: int64"
            ]
          },
          "metadata": {},
          "execution_count": 11
        }
      ]
    },
    {
      "cell_type": "code",
      "source": [
        "df2 = All[~All['Treatment'].isnull()]\n",
        "df2['label_lstm'] = df2['Treatment'].map({'yes':0, 'no':1})\n",
        "df2['label_lstm'].value_counts()"
      ],
      "metadata": {
        "colab": {
          "base_uri": "https://localhost:8080/"
        },
        "id": "CJYYDHWICAlO",
        "outputId": "526e26cc-04ad-4724-d144-98e2794cd4fa"
      },
      "execution_count": null,
      "outputs": [
        {
          "output_type": "stream",
          "name": "stderr",
          "text": [
            "<ipython-input-12-b70e0675128a>:2: SettingWithCopyWarning: \n",
            "A value is trying to be set on a copy of a slice from a DataFrame.\n",
            "Try using .loc[row_indexer,col_indexer] = value instead\n",
            "\n",
            "See the caveats in the documentation: https://pandas.pydata.org/pandas-docs/stable/user_guide/indexing.html#returning-a-view-versus-a-copy\n",
            "  df2['label_lstm'] = df2['Treatment'].map({'yes':0, 'no':1})\n"
          ]
        },
        {
          "output_type": "execute_result",
          "data": {
            "text/plain": [
              "1    1104\n",
              "0     249\n",
              "Name: label_lstm, dtype: int64"
            ]
          },
          "metadata": {},
          "execution_count": 12
        }
      ]
    },
    {
      "cell_type": "code",
      "source": [
        "\"\"\"\n",
        "treat=df2[df2['label_lstm']==0]\n",
        "nontreat=df2[df2['label_lstm']!=0]\n",
        "nontreat=nontreat.sample(n=treat.shape[0])\n",
        "df=pd.concat([treat, nontreat])\n",
        "\"\"\""
      ],
      "metadata": {
        "id": "J-6N9vXggzpP",
        "colab": {
          "base_uri": "https://localhost:8080/",
          "height": 53
        },
        "outputId": "0767522e-575f-413a-e788-ca58107dac01"
      },
      "execution_count": null,
      "outputs": [
        {
          "output_type": "execute_result",
          "data": {
            "text/plain": [
              "\"\\ntreat=df2[df2['label_lstm']==0]\\nnontreat=df2[df2['label_lstm']!=0]\\nnontreat=nontreat.sample(n=treat.shape[0])\\ndf=pd.concat([treat, nontreat])\\n\""
            ],
            "application/vnd.google.colaboratory.intrinsic+json": {
              "type": "string"
            }
          },
          "metadata": {},
          "execution_count": 23
        }
      ]
    },
    {
      "cell_type": "code",
      "source": [
        "X=df2['abstract']\n",
        "Y=df2['label_lstm']"
      ],
      "metadata": {
        "id": "Z5hYwgNhKjWA"
      },
      "execution_count": null,
      "outputs": []
    },
    {
      "cell_type": "code",
      "source": [
        "def clean_text(txt):\n",
        "    txt = \"\".join(v for v in txt if v not in string.punctuation.lower())\n",
        "    return txt\n",
        "X=[clean_text(i) for i in X]"
      ],
      "metadata": {
        "id": "Im5wCs4wIj9F"
      },
      "execution_count": null,
      "outputs": []
    },
    {
      "cell_type": "code",
      "source": [
        "tokenizer = Tokenizer()\n",
        "tokenizer.fit_on_texts(X)\n",
        "\n",
        "def get_sequence_of_tokens(corpus):\n",
        "    ## tokenization\n",
        "    \n",
        "    total_words = len(tokenizer.word_index) + 1\n",
        "    \n",
        "    ## convert data to sequence of tokens \n",
        "    input_sequences = []\n",
        "    for line in corpus:\n",
        "        token_list = tokenizer.texts_to_sequences([line])[0]\n",
        "        input_sequences.append(token_list)\n",
        "    return input_sequences, total_words\n",
        "\n",
        "inp_sequences, total_words = get_sequence_of_tokens(X)"
      ],
      "metadata": {
        "id": "vEzd9F_0Hp1o"
      },
      "execution_count": null,
      "outputs": []
    },
    {
      "cell_type": "code",
      "source": [
        "def get_sequence_of_tokens_pred(corpus):\n",
        "    ## tokenization\n",
        "    \n",
        "    total_words = len(tokenizer.word_index) + 1\n",
        "    \n",
        "    ## convert data to sequence of tokens \n",
        "    #input_sequences = []\n",
        "    token_list = tokenizer.texts_to_sequences([corpus])[0]\n",
        "    return token_list, total_words"
      ],
      "metadata": {
        "id": "4AEP1CSIKPHc"
      },
      "execution_count": null,
      "outputs": []
    },
    {
      "cell_type": "code",
      "source": [
        "def generate_padded_sequences(input_sequences):\n",
        "    max_sequence_len = max([len(x) for x in input_sequences])\n",
        "    input_sequences = np.array(pad_sequences(input_sequences, maxlen=max_sequence_len, padding='post'))\n",
        "   \n",
        "    predictors = input_sequences[:,:-1]\n",
        "    return predictors, max_sequence_len\n",
        "\n",
        "predictors, max_sequence_len = generate_padded_sequences(inp_sequences)"
      ],
      "metadata": {
        "id": "Z-HFCxFkIOGU"
      },
      "execution_count": null,
      "outputs": []
    },
    {
      "cell_type": "code",
      "source": [
        "def generate_padded_sequences_pred(input_sequences,max_sequence_len):\n",
        "    max_sequence_len = max([len(x) for x in input_sequences])\n",
        "    input_sequences = np.array(pad_sequences(input_sequences, maxlen=max_sequence_len, padding='post'))\n",
        "   \n",
        "    predictors = input_sequences[:,:-1]\n",
        "    print(predictors)\n",
        "    return predictors, max_sequence_len"
      ],
      "metadata": {
        "id": "nDF5W_gqVeqM"
      },
      "execution_count": null,
      "outputs": []
    },
    {
      "cell_type": "code",
      "source": [
        "x_train, x_test, y_train, y_test=train_test_split(predictors,Y, test_size=0.10, random_state=42)\n",
        "y_train=to_categorical(y_train)\n",
        "y_test=to_categorical(y_test)"
      ],
      "metadata": {
        "id": "Mj5vtVALGyhY"
      },
      "execution_count": null,
      "outputs": []
    },
    {
      "cell_type": "code",
      "source": [
        "def build_model():\n",
        "\n",
        "  opt = Adam(lr=0.01)\n",
        "\n",
        "  model = Sequential()\n",
        "  model.add(Embedding(total_words, 16, input_length=x_train.shape[1], mask_zero=True))\n",
        "  model.add(LSTM(12, dropout=0.7, recurrent_dropout=0.7))\n",
        "  model.add(Dense(6, kernel_regularizer=regularizers.l1_l2(0.3)))\n",
        "  model.add(Dropout(0.9))\n",
        "  model.add(Dense(2, activation='softmax'))\n",
        "  model.compile(loss='binary_crossentropy', optimizer=opt, metrics=['accuracy'])\n",
        "  return model\n",
        "\n",
        "model_lstm=build_model()"
      ],
      "metadata": {
        "colab": {
          "base_uri": "https://localhost:8080/"
        },
        "id": "XOIXVfk0Vsq4",
        "outputId": "480942ef-3297-48ce-9204-588b1458d5ab"
      },
      "execution_count": null,
      "outputs": [
        {
          "output_type": "stream",
          "name": "stderr",
          "text": [
            "/usr/local/lib/python3.8/dist-packages/keras/optimizers/optimizer_v2/adam.py:110: UserWarning: The `lr` argument is deprecated, use `learning_rate` instead.\n",
            "  super(Adam, self).__init__(name, **kwargs)\n",
            "WARNING:tensorflow:Layer lstm will not use cuDNN kernels since it doesn't meet the criteria. It will use a generic GPU kernel as fallback when running on GPU.\n"
          ]
        }
      ]
    },
    {
      "cell_type": "code",
      "source": [
        "model_lstm.summary()"
      ],
      "metadata": {
        "colab": {
          "base_uri": "https://localhost:8080/"
        },
        "id": "ZM-gCa3NKnyq",
        "outputId": "0184e8b9-d95a-4d73-dc86-1d883c63ccbd"
      },
      "execution_count": null,
      "outputs": [
        {
          "output_type": "stream",
          "name": "stdout",
          "text": [
            "Model: \"sequential\"\n",
            "_________________________________________________________________\n",
            " Layer (type)                Output Shape              Param #   \n",
            "=================================================================\n",
            " embedding (Embedding)       (None, 757, 16)           344960    \n",
            "                                                                 \n",
            " lstm (LSTM)                 (None, 12)                1392      \n",
            "                                                                 \n",
            " dense (Dense)               (None, 6)                 78        \n",
            "                                                                 \n",
            " dropout (Dropout)           (None, 6)                 0         \n",
            "                                                                 \n",
            " dense_1 (Dense)             (None, 2)                 14        \n",
            "                                                                 \n",
            "=================================================================\n",
            "Total params: 346,444\n",
            "Trainable params: 346,444\n",
            "Non-trainable params: 0\n",
            "_________________________________________________________________\n"
          ]
        }
      ]
    },
    {
      "cell_type": "code",
      "source": [
        "es = EarlyStopping(monitor='val_loss', mode='min',patience=5)\n",
        "history_lstm = model_lstm.fit(x_train, y_train, epochs=20,batch_size=300,validation_data=(x_test,y_test),shuffle=False)"
      ],
      "metadata": {
        "colab": {
          "base_uri": "https://localhost:8080/"
        },
        "id": "0IVkyTE9K_tV",
        "outputId": "deac8844-41cf-481a-f2e7-422c79734b67"
      },
      "execution_count": null,
      "outputs": [
        {
          "output_type": "stream",
          "name": "stdout",
          "text": [
            "Epoch 1/20\n",
            "5/5 [==============================] - 24s 4s/step - loss: 6.6339 - accuracy: 0.7067 - val_loss: 5.8555 - val_accuracy: 0.8162\n",
            "Epoch 2/20\n",
            "5/5 [==============================] - 21s 4s/step - loss: 5.5938 - accuracy: 0.8159 - val_loss: 4.8588 - val_accuracy: 0.8162\n",
            "Epoch 3/20\n",
            "5/5 [==============================] - 18s 4s/step - loss: 4.6362 - accuracy: 0.8159 - val_loss: 3.9844 - val_accuracy: 0.8162\n",
            "Epoch 4/20\n",
            "5/5 [==============================] - 17s 3s/step - loss: 3.8243 - accuracy: 0.8151 - val_loss: 3.2237 - val_accuracy: 0.8162\n",
            "Epoch 5/20\n",
            "5/5 [==============================] - 19s 4s/step - loss: 3.0664 - accuracy: 0.8159 - val_loss: 2.5597 - val_accuracy: 0.8162\n",
            "Epoch 6/20\n",
            "5/5 [==============================] - 19s 4s/step - loss: 2.4224 - accuracy: 0.8176 - val_loss: 1.9686 - val_accuracy: 0.8162\n",
            "Epoch 7/20\n",
            "5/5 [==============================] - 17s 3s/step - loss: 1.8772 - accuracy: 0.8159 - val_loss: 1.5082 - val_accuracy: 0.8162\n",
            "Epoch 8/20\n",
            "5/5 [==============================] - 17s 3s/step - loss: 1.4421 - accuracy: 0.8159 - val_loss: 1.1661 - val_accuracy: 0.8162\n",
            "Epoch 9/20\n",
            "5/5 [==============================] - 19s 4s/step - loss: 1.1245 - accuracy: 0.8159 - val_loss: 0.9086 - val_accuracy: 0.8162\n",
            "Epoch 10/20\n",
            "5/5 [==============================] - 19s 4s/step - loss: 0.8818 - accuracy: 0.8159 - val_loss: 0.7546 - val_accuracy: 0.8162\n",
            "Epoch 11/20\n",
            "5/5 [==============================] - 17s 3s/step - loss: 0.7631 - accuracy: 0.8159 - val_loss: 0.6943 - val_accuracy: 0.8162\n",
            "Epoch 12/20\n",
            "5/5 [==============================] - 17s 3s/step - loss: 0.6999 - accuracy: 0.8159 - val_loss: 0.6184 - val_accuracy: 0.8162\n",
            "Epoch 13/20\n",
            "5/5 [==============================] - 19s 4s/step - loss: 0.6672 - accuracy: 0.8159 - val_loss: 0.6013 - val_accuracy: 0.8162\n",
            "Epoch 14/20\n",
            "5/5 [==============================] - 20s 4s/step - loss: 0.6461 - accuracy: 0.8159 - val_loss: 0.5568 - val_accuracy: 0.8162\n",
            "Epoch 15/20\n",
            "5/5 [==============================] - 18s 4s/step - loss: 0.5999 - accuracy: 0.8159 - val_loss: 0.5479 - val_accuracy: 0.8162\n",
            "Epoch 16/20\n",
            "5/5 [==============================] - 18s 4s/step - loss: 0.5708 - accuracy: 0.8159 - val_loss: 0.5325 - val_accuracy: 0.8162\n",
            "Epoch 17/20\n",
            "5/5 [==============================] - 19s 4s/step - loss: 0.5542 - accuracy: 0.8159 - val_loss: 0.5276 - val_accuracy: 0.8162\n",
            "Epoch 18/20\n",
            "5/5 [==============================] - 18s 4s/step - loss: 0.5660 - accuracy: 0.8159 - val_loss: 0.5214 - val_accuracy: 0.8162\n",
            "Epoch 19/20\n",
            "5/5 [==============================] - 17s 4s/step - loss: 0.5527 - accuracy: 0.8159 - val_loss: 0.5211 - val_accuracy: 0.8162\n",
            "Epoch 20/20\n",
            "5/5 [==============================] - 20s 4s/step - loss: 0.5331 - accuracy: 0.8159 - val_loss: 0.5175 - val_accuracy: 0.8162\n"
          ]
        }
      ]
    },
    {
      "cell_type": "code",
      "source": [
        "max_words = 100\n",
        "max_len = 757\n",
        "tok = Tokenizer(num_words=max_words)\n",
        "tok.fit_on_texts(All[\"abstract\"])\n",
        "sequences = tok.texts_to_sequences(All[\"abstract\"])\n",
        "txts = pad_sequences(sequences, maxlen=max_len, padding='post')"
      ],
      "metadata": {
        "id": "b30DMgeiLFsL"
      },
      "execution_count": null,
      "outputs": []
    },
    {
      "cell_type": "code",
      "source": [
        "preds = model_lstm.predict(txts)\n",
        "len(sequences)"
      ],
      "metadata": {
        "colab": {
          "base_uri": "https://localhost:8080/"
        },
        "id": "S8AumgZOLVOL",
        "outputId": "3af1ec4b-f1d2-4ef3-c41f-4894bc795c2c"
      },
      "execution_count": null,
      "outputs": [
        {
          "output_type": "stream",
          "name": "stdout",
          "text": [
            "360/360 [==============================] - 78s 215ms/step\n"
          ]
        },
        {
          "output_type": "execute_result",
          "data": {
            "text/plain": [
              "11509"
            ]
          },
          "metadata": {},
          "execution_count": 24
        }
      ]
    },
    {
      "cell_type": "code",
      "source": [
        "predictions=[ 1 if i<j else 0 for i,j in preds  ] \n",
        "All['Treatment_mentioned']=predictions"
      ],
      "metadata": {
        "id": "mj6j2FDyLc7c"
      },
      "execution_count": null,
      "outputs": []
    },
    {
      "cell_type": "markdown",
      "source": [
        "#We will now idetify the top 10 drugnames based on the following details:\n",
        "* We will filter articles in which Alzheimer disease is mentioned in abstract, article mentiones clinical trial and therapeutic association with drugname\n",
        "*Now, we will check the drugnames which has maximum frequencies as primary drug"
      ],
      "metadata": {
        "id": "Vu5SdyVBLu5-"
      }
    },
    {
      "cell_type": "code",
      "source": [
        "All.head()"
      ],
      "metadata": {
        "colab": {
          "base_uri": "https://localhost:8080/",
          "height": 577
        },
        "id": "rmxwyc0HQhUV",
        "outputId": "83daf4b4-4f00-4609-a59f-1cc3cce66892"
      },
      "execution_count": null,
      "outputs": [
        {
          "output_type": "execute_result",
          "data": {
            "text/plain": [
              "   Unnamed: 0  Unnamed: 0.1  Unnamed: 0.1.1  pubmed_id  \\\n",
              "0           0             0               0   36375694   \n",
              "1           1             3               3   36374001   \n",
              "2           2             4               4   36373976   \n",
              "3           3             5               5   36373666   \n",
              "4           4             6               6   36373344   \n",
              "\n",
              "                                               title  \\\n",
              "0  Characterisation of C101248: A novel selective...   \n",
              "1  Revisiting the involvement of tau in complex n...   \n",
              "2  Role of Calcium Dysregulation in Alzheimer's D...   \n",
              "3  Shapeshifting tau: from intrinsically disorder...   \n",
              "4  A public resource of baseline data from the Al...   \n",
              "\n",
              "                                            abstract Treatment  \\\n",
              "0  Neuroinflammation, specifically the NLRP3 infl...        no   \n",
              "1  Tau ablation has a protective effect in epilep...       yes   \n",
              "2  The increasing incidence of Alzheimer's Diseas...        no   \n",
              "3  Tau is an intrinsically disordered protein tha...        no   \n",
              "4  The Alzheimer's Prevention Initiative Autosoma...       yes   \n",
              "\n",
              "                                doi publication_date  \\\n",
              "0  10.1016/j.neuropharm.2022.109330       2022-11-15   \n",
              "1          10.1088/1741-2552/aca261       2022-11-15   \n",
              "2                10.1111/cbdd.14175       2022-11-15   \n",
              "3               10.1042/EBC20220150       2022-11-15   \n",
              "4                 10.1002/alz.12843       2022-11-15   \n",
              "\n",
              "                                             authors  ...  label prediction  \\\n",
              "0  [{'lastname': 'Ossola', 'firstname': 'Bernardi...  ...      0          0   \n",
              "1  [{'lastname': 'Bouillet', 'firstname': 'Thomas...  ...      0          0   \n",
              "2  [{'lastname': 'Joshi', 'firstname': 'Maithili'...  ...      0          0   \n",
              "3  [{'lastname': 'Mengham', 'firstname': 'Kurtis'...  ...      0          0   \n",
              "4  [{'lastname': 'Reiman', 'firstname': 'Eric M',...  ...      1          1   \n",
              "\n",
              "  true_label                                     scispacy_drugs  \\\n",
              "0          0                                              ['K']   \n",
              "1          0                                            ['Tau']   \n",
              "2          0                                  ['Calcium', 'Ca']   \n",
              "3          0         ['Tau', 'tubulin', 'Tau', 'liquid-liquid']   \n",
              "4          1  ['amyloid', 'beta', '(', 'Aβ', ')', 'presenili...   \n",
              "\n",
              "                                    scispacy_disease  primary_drug  \\\n",
              "0  ['Neuroinflammation', 'neurodegenerative', 'di...             K   \n",
              "1  ['epilepsy', 'Alzheimer', \"'s\", 'disease', 'ep...           Tau   \n",
              "2                     ['Alzheimer', \"'s\", 'Disease']            Ca   \n",
              "3  ['Alzheimer', \"'s\", 'disease', 'tauopathies', ...           Tau   \n",
              "4  ['Alzheimer', \"'s\", 'Prevention', 'Autosomal-D...            Aβ   \n",
              "\n",
              "  primary_disease Alzheimer_found Treatment.1 Treatment_mentioned  \n",
              "0        diseases           False         NaN                   1  \n",
              "1       epileptic            True         yes                   1  \n",
              "2              's            True          no                   1  \n",
              "3     tauopathies            True          no                   1  \n",
              "4              's            True         NaN                   1  \n",
              "\n",
              "[5 rows x 23 columns]"
            ],
            "text/html": [
              "\n",
              "  <div id=\"df-4a72b968-958e-44d3-9644-9cba616d2ad2\">\n",
              "    <div class=\"colab-df-container\">\n",
              "      <div>\n",
              "<style scoped>\n",
              "    .dataframe tbody tr th:only-of-type {\n",
              "        vertical-align: middle;\n",
              "    }\n",
              "\n",
              "    .dataframe tbody tr th {\n",
              "        vertical-align: top;\n",
              "    }\n",
              "\n",
              "    .dataframe thead th {\n",
              "        text-align: right;\n",
              "    }\n",
              "</style>\n",
              "<table border=\"1\" class=\"dataframe\">\n",
              "  <thead>\n",
              "    <tr style=\"text-align: right;\">\n",
              "      <th></th>\n",
              "      <th>Unnamed: 0</th>\n",
              "      <th>Unnamed: 0.1</th>\n",
              "      <th>Unnamed: 0.1.1</th>\n",
              "      <th>pubmed_id</th>\n",
              "      <th>title</th>\n",
              "      <th>abstract</th>\n",
              "      <th>Treatment</th>\n",
              "      <th>doi</th>\n",
              "      <th>publication_date</th>\n",
              "      <th>authors</th>\n",
              "      <th>...</th>\n",
              "      <th>label</th>\n",
              "      <th>prediction</th>\n",
              "      <th>true_label</th>\n",
              "      <th>scispacy_drugs</th>\n",
              "      <th>scispacy_disease</th>\n",
              "      <th>primary_drug</th>\n",
              "      <th>primary_disease</th>\n",
              "      <th>Alzheimer_found</th>\n",
              "      <th>Treatment.1</th>\n",
              "      <th>Treatment_mentioned</th>\n",
              "    </tr>\n",
              "  </thead>\n",
              "  <tbody>\n",
              "    <tr>\n",
              "      <th>0</th>\n",
              "      <td>0</td>\n",
              "      <td>0</td>\n",
              "      <td>0</td>\n",
              "      <td>36375694</td>\n",
              "      <td>Characterisation of C101248: A novel selective...</td>\n",
              "      <td>Neuroinflammation, specifically the NLRP3 infl...</td>\n",
              "      <td>no</td>\n",
              "      <td>10.1016/j.neuropharm.2022.109330</td>\n",
              "      <td>2022-11-15</td>\n",
              "      <td>[{'lastname': 'Ossola', 'firstname': 'Bernardi...</td>\n",
              "      <td>...</td>\n",
              "      <td>0</td>\n",
              "      <td>0</td>\n",
              "      <td>0</td>\n",
              "      <td>['K']</td>\n",
              "      <td>['Neuroinflammation', 'neurodegenerative', 'di...</td>\n",
              "      <td>K</td>\n",
              "      <td>diseases</td>\n",
              "      <td>False</td>\n",
              "      <td>NaN</td>\n",
              "      <td>1</td>\n",
              "    </tr>\n",
              "    <tr>\n",
              "      <th>1</th>\n",
              "      <td>1</td>\n",
              "      <td>3</td>\n",
              "      <td>3</td>\n",
              "      <td>36374001</td>\n",
              "      <td>Revisiting the involvement of tau in complex n...</td>\n",
              "      <td>Tau ablation has a protective effect in epilep...</td>\n",
              "      <td>yes</td>\n",
              "      <td>10.1088/1741-2552/aca261</td>\n",
              "      <td>2022-11-15</td>\n",
              "      <td>[{'lastname': 'Bouillet', 'firstname': 'Thomas...</td>\n",
              "      <td>...</td>\n",
              "      <td>0</td>\n",
              "      <td>0</td>\n",
              "      <td>0</td>\n",
              "      <td>['Tau']</td>\n",
              "      <td>['epilepsy', 'Alzheimer', \"'s\", 'disease', 'ep...</td>\n",
              "      <td>Tau</td>\n",
              "      <td>epileptic</td>\n",
              "      <td>True</td>\n",
              "      <td>yes</td>\n",
              "      <td>1</td>\n",
              "    </tr>\n",
              "    <tr>\n",
              "      <th>2</th>\n",
              "      <td>2</td>\n",
              "      <td>4</td>\n",
              "      <td>4</td>\n",
              "      <td>36373976</td>\n",
              "      <td>Role of Calcium Dysregulation in Alzheimer's D...</td>\n",
              "      <td>The increasing incidence of Alzheimer's Diseas...</td>\n",
              "      <td>no</td>\n",
              "      <td>10.1111/cbdd.14175</td>\n",
              "      <td>2022-11-15</td>\n",
              "      <td>[{'lastname': 'Joshi', 'firstname': 'Maithili'...</td>\n",
              "      <td>...</td>\n",
              "      <td>0</td>\n",
              "      <td>0</td>\n",
              "      <td>0</td>\n",
              "      <td>['Calcium', 'Ca']</td>\n",
              "      <td>['Alzheimer', \"'s\", 'Disease']</td>\n",
              "      <td>Ca</td>\n",
              "      <td>'s</td>\n",
              "      <td>True</td>\n",
              "      <td>no</td>\n",
              "      <td>1</td>\n",
              "    </tr>\n",
              "    <tr>\n",
              "      <th>3</th>\n",
              "      <td>3</td>\n",
              "      <td>5</td>\n",
              "      <td>5</td>\n",
              "      <td>36373666</td>\n",
              "      <td>Shapeshifting tau: from intrinsically disorder...</td>\n",
              "      <td>Tau is an intrinsically disordered protein tha...</td>\n",
              "      <td>no</td>\n",
              "      <td>10.1042/EBC20220150</td>\n",
              "      <td>2022-11-15</td>\n",
              "      <td>[{'lastname': 'Mengham', 'firstname': 'Kurtis'...</td>\n",
              "      <td>...</td>\n",
              "      <td>0</td>\n",
              "      <td>0</td>\n",
              "      <td>0</td>\n",
              "      <td>['Tau', 'tubulin', 'Tau', 'liquid-liquid']</td>\n",
              "      <td>['Alzheimer', \"'s\", 'disease', 'tauopathies', ...</td>\n",
              "      <td>Tau</td>\n",
              "      <td>tauopathies</td>\n",
              "      <td>True</td>\n",
              "      <td>no</td>\n",
              "      <td>1</td>\n",
              "    </tr>\n",
              "    <tr>\n",
              "      <th>4</th>\n",
              "      <td>4</td>\n",
              "      <td>6</td>\n",
              "      <td>6</td>\n",
              "      <td>36373344</td>\n",
              "      <td>A public resource of baseline data from the Al...</td>\n",
              "      <td>The Alzheimer's Prevention Initiative Autosoma...</td>\n",
              "      <td>yes</td>\n",
              "      <td>10.1002/alz.12843</td>\n",
              "      <td>2022-11-15</td>\n",
              "      <td>[{'lastname': 'Reiman', 'firstname': 'Eric M',...</td>\n",
              "      <td>...</td>\n",
              "      <td>1</td>\n",
              "      <td>1</td>\n",
              "      <td>1</td>\n",
              "      <td>['amyloid', 'beta', '(', 'Aβ', ')', 'presenili...</td>\n",
              "      <td>['Alzheimer', \"'s\", 'Prevention', 'Autosomal-D...</td>\n",
              "      <td>Aβ</td>\n",
              "      <td>'s</td>\n",
              "      <td>True</td>\n",
              "      <td>NaN</td>\n",
              "      <td>1</td>\n",
              "    </tr>\n",
              "  </tbody>\n",
              "</table>\n",
              "<p>5 rows × 23 columns</p>\n",
              "</div>\n",
              "      <button class=\"colab-df-convert\" onclick=\"convertToInteractive('df-4a72b968-958e-44d3-9644-9cba616d2ad2')\"\n",
              "              title=\"Convert this dataframe to an interactive table.\"\n",
              "              style=\"display:none;\">\n",
              "        \n",
              "  <svg xmlns=\"http://www.w3.org/2000/svg\" height=\"24px\"viewBox=\"0 0 24 24\"\n",
              "       width=\"24px\">\n",
              "    <path d=\"M0 0h24v24H0V0z\" fill=\"none\"/>\n",
              "    <path d=\"M18.56 5.44l.94 2.06.94-2.06 2.06-.94-2.06-.94-.94-2.06-.94 2.06-2.06.94zm-11 1L8.5 8.5l.94-2.06 2.06-.94-2.06-.94L8.5 2.5l-.94 2.06-2.06.94zm10 10l.94 2.06.94-2.06 2.06-.94-2.06-.94-.94-2.06-.94 2.06-2.06.94z\"/><path d=\"M17.41 7.96l-1.37-1.37c-.4-.4-.92-.59-1.43-.59-.52 0-1.04.2-1.43.59L10.3 9.45l-7.72 7.72c-.78.78-.78 2.05 0 2.83L4 21.41c.39.39.9.59 1.41.59.51 0 1.02-.2 1.41-.59l7.78-7.78 2.81-2.81c.8-.78.8-2.07 0-2.86zM5.41 20L4 18.59l7.72-7.72 1.47 1.35L5.41 20z\"/>\n",
              "  </svg>\n",
              "      </button>\n",
              "      \n",
              "  <style>\n",
              "    .colab-df-container {\n",
              "      display:flex;\n",
              "      flex-wrap:wrap;\n",
              "      gap: 12px;\n",
              "    }\n",
              "\n",
              "    .colab-df-convert {\n",
              "      background-color: #E8F0FE;\n",
              "      border: none;\n",
              "      border-radius: 50%;\n",
              "      cursor: pointer;\n",
              "      display: none;\n",
              "      fill: #1967D2;\n",
              "      height: 32px;\n",
              "      padding: 0 0 0 0;\n",
              "      width: 32px;\n",
              "    }\n",
              "\n",
              "    .colab-df-convert:hover {\n",
              "      background-color: #E2EBFA;\n",
              "      box-shadow: 0px 1px 2px rgba(60, 64, 67, 0.3), 0px 1px 3px 1px rgba(60, 64, 67, 0.15);\n",
              "      fill: #174EA6;\n",
              "    }\n",
              "\n",
              "    [theme=dark] .colab-df-convert {\n",
              "      background-color: #3B4455;\n",
              "      fill: #D2E3FC;\n",
              "    }\n",
              "\n",
              "    [theme=dark] .colab-df-convert:hover {\n",
              "      background-color: #434B5C;\n",
              "      box-shadow: 0px 1px 3px 1px rgba(0, 0, 0, 0.15);\n",
              "      filter: drop-shadow(0px 1px 2px rgba(0, 0, 0, 0.3));\n",
              "      fill: #FFFFFF;\n",
              "    }\n",
              "  </style>\n",
              "\n",
              "      <script>\n",
              "        const buttonEl =\n",
              "          document.querySelector('#df-4a72b968-958e-44d3-9644-9cba616d2ad2 button.colab-df-convert');\n",
              "        buttonEl.style.display =\n",
              "          google.colab.kernel.accessAllowed ? 'block' : 'none';\n",
              "\n",
              "        async function convertToInteractive(key) {\n",
              "          const element = document.querySelector('#df-4a72b968-958e-44d3-9644-9cba616d2ad2');\n",
              "          const dataTable =\n",
              "            await google.colab.kernel.invokeFunction('convertToInteractive',\n",
              "                                                     [key], {});\n",
              "          if (!dataTable) return;\n",
              "\n",
              "          const docLinkHtml = 'Like what you see? Visit the ' +\n",
              "            '<a target=\"_blank\" href=https://colab.research.google.com/notebooks/data_table.ipynb>data table notebook</a>'\n",
              "            + ' to learn more about interactive tables.';\n",
              "          element.innerHTML = '';\n",
              "          dataTable['output_type'] = 'display_data';\n",
              "          await google.colab.output.renderOutput(dataTable, element);\n",
              "          const docLink = document.createElement('div');\n",
              "          docLink.innerHTML = docLinkHtml;\n",
              "          element.appendChild(docLink);\n",
              "        }\n",
              "      </script>\n",
              "    </div>\n",
              "  </div>\n",
              "  "
            ]
          },
          "metadata": {},
          "execution_count": 86
        }
      ]
    },
    {
      "cell_type": "code",
      "source": [
        "Trial_mentioned=All[All['RCT']=='yes']\n",
        "Alzheimer_found=Trial_mentioned[Trial_mentioned['Alzheimer_found']==True]\n",
        "Treatment_mentioned=Trial_mentioned[Trial_mentioned['Treatment']=='yes']"
      ],
      "metadata": {
        "id": "SY4h72YpQUsR"
      },
      "execution_count": null,
      "outputs": []
    },
    {
      "cell_type": "code",
      "source": [
        "import seaborn as sns\n",
        "fig, ax = plt.subplots(figsize =(15,8))\n",
        "a = sns.countplot(data=Treatment_mentioned, x='primary_drug', palette='flare')\n",
        "plt.xticks(rotation=45)\n",
        "a.set(xlabel='Drugname', ylabel='Number of articles', title='Articles related to drugname treating kidney cancer');\n"
      ],
      "metadata": {
        "colab": {
          "base_uri": "https://localhost:8080/",
          "height": 560
        },
        "id": "u650tphyRG0m",
        "outputId": "a159003a-224a-4d7b-991d-ba2f7db48d34"
      },
      "execution_count": null,
      "outputs": [
        {
          "output_type": "display_data",
          "data": {
            "text/plain": [
              "<Figure size 1080x576 with 1 Axes>"
            ],
            "image/png": "[encoded data removed]"
          },
          "metadata": {
            "needs_background": "light"
          }
        }
      ]
    },
    {
      "cell_type": "code",
      "source": [
        "drug_recommendation=Alzheimer_found['primary_drug'].value_counts().to_dict()\n"
      ],
      "metadata": {
        "id": "Pfrq6e1ZR4bZ"
      },
      "execution_count": null,
      "outputs": []
    },
    {
      "cell_type": "code",
      "source": [
        "drug_recommendation= {key:val for key, val in drug_recommendation.items() if val != 1}\n",
        "drug_recommendation= {key:val for key, val in drug_recommendation.items() if val != 2}\n",
        "del drug_recommendation[\"±\"]\n",
        "del drug_recommendation[\"(\"]\n",
        "del drug_recommendation[\"-\"]\n",
        "del drug_recommendation[\"≥\"]\n",
        "del drug_recommendation['\\n']\n",
        "del drug_recommendation[',']\n",
        "drug_recommendation"
      ],
      "metadata": {
        "colab": {
          "base_uri": "https://localhost:8080/"
        },
        "id": "upJLqfLkTFMt",
        "outputId": "5543321d-2d25-44c0-b178-e42a73d7cb52"
      },
      "execution_count": null,
      "outputs": [
        {
          "output_type": "execute_result",
          "data": {
            "text/plain": [
              "{'amyloid': 50,\n",
              " 'aducanumab': 32,\n",
              " 'Aβ': 31,\n",
              " 'glucose': 17,\n",
              " 'memantine': 15,\n",
              " 'Tau': 14,\n",
              " 'donepezil': 14,\n",
              " 'beta': 14,\n",
              " 'melatonin': 12,\n",
              " 'vitamin': 11,\n",
              " 'β': 11,\n",
              " '\\xa0': 10,\n",
              " 'acupuncture': 9,\n",
              " 'p-tau181': 9,\n",
              " 'COVID-19': 9,\n",
              " 'amyloid-beta': 8,\n",
              " 'cholesterol': 8,\n",
              " 'acid': 7,\n",
              " 'levetiracetam': 5,\n",
              " 'PET': 5,\n",
              " 'Aβ-PET': 4,\n",
              " 'Aducanumab': 4,\n",
              " 'DMT': 4,\n",
              " 'Aß': 4,\n",
              " 'copper': 4,\n",
              " 'lithium': 4,\n",
              " 'Aβ1': 4,\n",
              " 'metformin': 4,\n",
              " 'NfL': 4,\n",
              " 'statins': 3,\n",
              " 'tau-PET': 3,\n",
              " 'amyloid-β': 3,\n",
              " 'antiseizure': 3,\n",
              " 'low-dose': 3,\n",
              " 'resveratrol': 3,\n",
              " 'amino': 3,\n",
              " 'iron': 3,\n",
              " 'olanzapine': 3,\n",
              " 'curcumin': 3,\n",
              " 'Wisconsin': 3,\n",
              " 'Aβ42/40': 3,\n",
              " 'iADRS': 3,\n",
              " 'alcohol': 3,\n",
              " 'solanezumab': 3,\n",
              " 'Amyloid-β': 3,\n",
              " 'de': 3,\n",
              " 'Aβ42/Aβ40': 3,\n",
              " 'AA': 3,\n",
              " 'Aβ42': 3,\n",
              " 'acetylcholine': 3,\n",
              " 'galantamine': 3,\n",
              " 'TNF-α': 3}"
            ]
          },
          "metadata": {},
          "execution_count": 116
        }
      ]
    },
    {
      "cell_type": "code",
      "source": [
        "final =pd.DataFrame.from_dict(drug_recommendation.items())"
      ],
      "metadata": {
        "id": "syZFBCTOVgLu"
      },
      "execution_count": null,
      "outputs": []
    },
    {
      "cell_type": "code",
      "source": [
        "\n",
        "plt.subplots(1,1,figsize=(12,5))\n",
        "\n",
        "plt.xticks(rotation=75)\n",
        "plt.ylabel('Count')\n",
        "plt.title('Recommended drugs');\n",
        "\n",
        "ax = sns.barplot(x= final[:25][0], y = final[:25][1] ,palette=(\"rocket\"))\n",
        "sns.set_context(context=None)"
      ],
      "metadata": {
        "colab": {
          "base_uri": "https://localhost:8080/",
          "height": 409
        },
        "id": "435HEqWYVnNL",
        "outputId": "ff583073-33fa-4c9f-c299-04c66642b1cf"
      },
      "execution_count": null,
      "outputs": [
        {
          "output_type": "display_data",
          "data": {
            "text/plain": [
              "<Figure size 864x360 with 1 Axes>"
            ],
            "image/png": "[encoded data removed]"
          },
          "metadata": {
            "needs_background": "light"
          }
        }
      ]
    },
    {
      "cell_type": "markdown",
      "source": [
        "## The top drug recommendations for treatment are:\n",
        "1. Aducanumab (FDA Approved)\n",
        "2. Memantine\n",
        "3. Donepezil\n",
        "4. levetiracetam\n",
        "5. Aducanumab"
      ],
      "metadata": {
        "id": "ATIRis0_XA0u"
      }
    },
    {
      "cell_type": "markdown",
      "source": [],
      "metadata": {
        "id": "GNS5y47srCgR"
      }
    },
    {
      "cell_type": "markdown",
      "source": [
        "# references :\n",
        "https://www.kaggle.com/code/salls123/simple-lstm-binary-classification\n",
        "\n",
        "https://medium.com/mlearning-ai/the-classification-of-text-messages-using-lstm-bi-lstm-and-gru-f79b207f90ad\n",
        "\n",
        "https://www.projectpro.io/recipes/explain-lstm-is-used-for-classification\n"
      ],
      "metadata": {
        "id": "y6IZsoj5BkSz"
      }
    }
  ]
}